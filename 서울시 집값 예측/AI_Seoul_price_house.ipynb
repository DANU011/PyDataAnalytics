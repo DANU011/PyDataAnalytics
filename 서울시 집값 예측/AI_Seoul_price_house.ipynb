{
 "cells": [
  {
   "attachments": {},
   "cell_type": "markdown",
   "metadata": {},
   "source": [
    "# AI 서울 전세가격 예측 서비스"
   ]
  },
  {
   "cell_type": "code",
   "outputs": [],
   "source": [],
   "metadata": {
    "collapsed": false,
    "is_executing": true
   }
  },
  {
   "attachments": {},
   "cell_type": "markdown",
   "metadata": {},
   "source": [
    "- Table of Contents\n",
    "1. EDA\n",
    "2. Model\n",
    "- 데이터 전처리\n",
    "3. Data Source"
   ]
  },
  {
   "attachments": {},
   "cell_type": "markdown",
   "metadata": {},
   "source": [
    "## 1. EDA"
   ]
  },
  {
   "cell_type": "markdown",
   "source": [
    "## 2. Model"
   ],
   "metadata": {
    "collapsed": false
   }
  },
  {
   "cell_type": "markdown",
   "source": [
    "## 3. Data Source\n",
    "\n",
    "## 3.1 부동산 거래 데이터 수집\n",
    "\n",
    "201405 ~ 202312 기간의 서울 전/월세 계약 건수를 취합, 월세는 년/월별 전월세환원율을 통해 전세로 치환예정\n",
    "\n",
    "- 국토교통부 실거래가 공개시스템 (http://rtdown.molit.go.kr/) \n",
    "    - 아파트 (전월세)\n",
    "    - 단독 / 다가구 (전월세)\n",
    "    - 오피스텔 (전월세)\n",
    "\n",
    "- 국가 통계 포털 전월세 환원율 (https://kosis.kr/statHtml/statHtml.do?orgId=408&tblId=DT_30404_N0010)"
   ],
   "metadata": {
    "collapsed": false
   }
  },
  {
   "cell_type": "markdown",
   "source": [
    "## 4. 결과"
   ],
   "metadata": {
    "collapsed": false
   }
  },
  {
   "cell_type": "code",
   "outputs": [],
   "source": [],
   "metadata": {
    "collapsed": false
   }
  }
 ],
 "metadata": {
  "kernelspec": {
   "display_name": "Python 3",
   "language": "python",
   "name": "python3"
  },
  "language_info": {
   "codemirror_mode": {
    "name": "ipython",
    "version": 3
   },
   "file_extension": ".py",
   "mimetype": "text/x-python",
   "name": "python",
   "nbconvert_exporter": "python",
   "pygments_lexer": "ipython3",
   "version": "3.9.13"
  },
  "orig_nbformat": 4
 },
 "nbformat": 4,
 "nbformat_minor": 2
}
