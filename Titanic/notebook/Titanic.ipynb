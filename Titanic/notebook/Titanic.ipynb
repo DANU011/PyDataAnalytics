{
  "nbformat": 4,
  "nbformat_minor": 0,
  "metadata": {
    "colab": {
      "provenance": [],
      "authorship_tag": "ABX9TyM5QFEpDRUWsf04lV3Svyiw"
    },
    "kernelspec": {
      "name": "python3",
      "display_name": "Python 3"
    },
    "language_info": {
      "name": "python"
    }
  },
  "cells": [
    {
      "cell_type": "markdown",
      "source": [
        "## 1. pandas를 이용해 csv 파일 읽어오기"
      ],
      "metadata": {
        "id": "RrtzTeF2YCYh"
      }
    },
    {
      "cell_type": "code",
      "source": [
        "# Pandas library import\n",
        "import pandas as pd\n",
        "\n",
        "# ​train.csv, test.csv, sample_submission.csv 파일을 각각 train, test, submission 변수에 저장\n",
        "train = pd.read_csv('train.csv')\n",
        "test = pd.read_csv('test.csv')\n",
        "submission = pd.read_csv('submission.csv')"
      ],
      "metadata": {
        "id": "ZiiNv1BEYNYA"
      },
      "execution_count": 5,
      "outputs": []
    },
    {
      "cell_type": "markdown",
      "source": [
        "## 2. 전처리\n",
        "1. train에서는 columns와 'Survived' 컬럼을 사용  \n",
        "2. test에서는 columns 컬럼만을 사용  \n",
        "3. 'Age', 'Fare' 컬럼의 결측치를 각 값의 평균으로 대체  \n",
        "4. train, test 데이터프레임의 Age,Fare 열의 결측값을 Age,Fare 열의 평균 값으로 대체  \n",
        "5. 'Parch'가 5 이하이고, 'Fare'이 300 이하인 값을 train 데이터에서 제거  \n",
        "6. apply 함수를 이용하여 female이면 0, 아니라면 1로 값을 할당  \n",
        "7. 'Embarked' 컬럼에 원-핫 인코딩을 적용  \n",
        "8. 독립변수(train_x)와 종속변수(train_y)로 분할  \n",
        "9. 데이터의 불균형을 바로잡기 위해서 SMOTE 알고리즘을 사용  \n",
        "10. smote에 train_x, train_y를 넣어서 증강된 데이터 생성  \n",
        "11. 증강된 데이터를 다시 합하여 train_dataset을 확보  "
      ],
      "metadata": {
        "id": "aXmHC5ziZkpj"
      }
    },
    {
      "cell_type": "code",
      "source": [
        "# columns 선택\n",
        "columns = ['Pclass', 'Sex', 'Age', 'SibSp', 'Parch', 'Fare', 'Embarked']\n",
        "train = train[columns + ['Survived']]\n",
        "test = test[columns]"
      ],
      "metadata": {
        "id": "fih3ZiZ6Z3QN"
      },
      "execution_count": 6,
      "outputs": []
    },
    {
      "cell_type": "code",
      "source": [
        "# Null 처리\n",
        "mean_age = train['Age'].mean()\n",
        "mean_fare = train['Fare'].mean()\n",
        "\n",
        "# 평균값으로 대치\n",
        "train['Age'] = train['Age'].fillna(mean_age)\n",
        "test['Age'] = test['Age'].fillna(mean_age)\n",
        "train['Fare'] = train['Fare'].fillna(mean_fare)\n",
        "test['Fare'] = test['Fare'].fillna(mean_fare)"
      ],
      "metadata": {
        "id": "_XcwoIcYaxfu"
      },
      "execution_count": 8,
      "outputs": []
    },
    {
      "cell_type": "code",
      "source": [
        "# 이상치 제거\n",
        "train = train[train['Parch'] <= 5]\n",
        "train = train[train['Fare'] <= 300]"
      ],
      "metadata": {
        "id": "VMdZHA7da0LG"
      },
      "execution_count": 9,
      "outputs": []
    },
    {
      "cell_type": "code",
      "source": [
        "# 범주형 변수 변환 - apply 함수를 이용하여 female이면 0, 아니라면 1로 값을 할당\n",
        "train['Sex'] = train['Sex'].apply(lambda x: 0 if x == 'female' else 1)\n",
        "test['Sex'] = test['Sex'].apply(lambda x: 0 if x == 'femael' else 1)"
      ],
      "metadata": {
        "id": "XJLIQmEDa14T"
      },
      "execution_count": 10,
      "outputs": []
    },
    {
      "cell_type": "code",
      "source": [
        "# 원 - 핫 인코딩\n",
        "train = pd.get_dummies(train, columns=['Embarked'], drop_first=True)\n",
        "test = pd.get_dummies(test, columns=['Embarked'], drop_first=True)"
      ],
      "metadata": {
        "id": "4UdWUayMa_9F"
      },
      "execution_count": 11,
      "outputs": []
    },
    {
      "cell_type": "code",
      "source": [
        "# 독립변수(train_x)와 종속변수(train_y)로 분할\n",
        "train_x = train.drop(columns=['Survived'])\n",
        "train_y = train['Survived']"
      ],
      "metadata": {
        "id": "CfXXwEkybDY4"
      },
      "execution_count": 12,
      "outputs": []
    },
    {
      "cell_type": "code",
      "source": [
        "# 학습 데이터와 검증 데이터로 분할\n",
        "from sklearn.model_selection import train_test_split\n",
        "train_x, val_x, train_y, val_y  = train_test_split(train_x, train_y, test_size=0.2, random_state=0)"
      ],
      "metadata": {
        "id": "FLDtkhuMbFKA"
      },
      "execution_count": 13,
      "outputs": []
    },
    {
      "cell_type": "code",
      "source": [
        "# 데이터 분균형 교정\n",
        "from imblearn.over_sampling import SMOTE\n",
        "\n",
        "# 모델설정\n",
        "smote = SMOTE(random_state=0)\n",
        "# train데이터를 넣어 복제함\n",
        "X_resampled, y_resampled = smote.fit_resample(train_x,list(train_y))\n",
        "\n",
        "X_resampled['Survived'] = y_resampled\n",
        "# X_resample에 'Survived'라는 열을 추가하고 그 값을 y_resampled에서 가져와 채움.\n",
        "train_dataset = X_resampled\n",
        "# 'Survived' 열이 포함 X_resampled이 train_dataset 변수에 할당. 전처리된 균형 잡힌 훈련 데이터셋임."
      ],
      "metadata": {
        "id": "hgwpwcSrbKaG"
      },
      "execution_count": 14,
      "outputs": []
    },
    {
      "cell_type": "markdown",
      "source": [
        "## 3. 로지스틱 회귀(Logistic Regression) 모델\n",
        "\n",
        "sm.Logit.from_formula 에 독립변수들과 train 데이터를 입력  \n",
        "모델 학습을 진행  \n",
        "모델에 val_x 데이터를 넣고 값을 예측  \n",
        "예측 결과 시리즈의 각 원소를 순회하며 원소 x가 0.5 이상인 경우 1을 반환하고, 그렇지 않은 경우 0을 반환  \n",
        "confusion_matrix, classification_report 함수에 실제값(val_y)과 예측값(y_pred)을 넣고 혼동행렬을 확인  "
      ],
      "metadata": {
        "id": "RJSNrRgObW5O"
      }
    },
    {
      "cell_type": "code",
      "source": [
        "import statsmodels.api as sm\n",
        "from sklearn.metrics import classification_report\n",
        "from sklearn.metrics import confusion_matrix\n",
        "\n",
        "formula = \"\"\"\n",
        "Survived ~ C(Pclass)+ C(Sex) + scale(Age) + scale(SibSp) + scale(Parch) + scale(Fare) + C(Embarked_Q)+ C(Embarked_S)\n",
        "\"\"\"\n",
        "\n",
        "model = sm.Logit.from_formula(formula, data=train)\n",
        "result = model.fit()\n",
        "y_pred = result.predict(val_x)\n",
        "y_pred = y_pred.apply(lambda x: 1 if x >= 0.5 else 0)\n",
        "\n",
        "print(confusion_matrix(val_y, y_pred))\n",
        "print(classification_report(val_y, y_pred))"
      ],
      "metadata": {
        "id": "qOvWPaVGbskm",
        "outputId": "5609139e-5525-468f-fd73-307758054810",
        "colab": {
          "base_uri": "https://localhost:8080/"
        }
      },
      "execution_count": 15,
      "outputs": [
        {
          "output_type": "stream",
          "name": "stdout",
          "text": [
            "Optimization terminated successfully.\n",
            "         Current function value: 0.440644\n",
            "         Iterations 6\n",
            "[[83 20]\n",
            " [31 44]]\n",
            "              precision    recall  f1-score   support\n",
            "\n",
            "           0       0.73      0.81      0.76       103\n",
            "           1       0.69      0.59      0.63        75\n",
            "\n",
            "    accuracy                           0.71       178\n",
            "   macro avg       0.71      0.70      0.70       178\n",
            "weighted avg       0.71      0.71      0.71       178\n",
            "\n"
          ]
        }
      ]
    },
    {
      "cell_type": "markdown",
      "source": [
        "## 4. 의사결정나무(Decision Tree) 모델\n",
        "SMOTE 알고리즘을 적용한 train_dataset의 독립 변수를 나타내는 열들을 선택하고,\n",
        "종속 변수인 'Survived'를 선택하여 모델을 학습."
      ],
      "metadata": {
        "id": "-TXWfWpicVa5"
      }
    },
    {
      "cell_type": "code",
      "source": [
        "from sklearn.tree import DecisionTreeClassifier\n",
        "\n",
        "model = DecisionTreeClassifier(max_depth=6, random_state=0)\n",
        "model.fit(train_dataset.drop(columns='Survived'),train_dataset['Survived'])\n",
        "\n",
        "y_pred = model.predict(val_x)\n",
        "print(confusion_matrix(val_y, y_pred))\n",
        "print(classification_report(val_y, y_pred))"
      ],
      "metadata": {
        "id": "dNbYUfC0clEG",
        "outputId": "f8a9440d-70a2-49e7-ef8a-55e3581ea38f",
        "colab": {
          "base_uri": "https://localhost:8080/"
        }
      },
      "execution_count": 16,
      "outputs": [
        {
          "output_type": "stream",
          "name": "stdout",
          "text": [
            "[[89 14]\n",
            " [29 46]]\n",
            "              precision    recall  f1-score   support\n",
            "\n",
            "           0       0.75      0.86      0.81       103\n",
            "           1       0.77      0.61      0.68        75\n",
            "\n",
            "    accuracy                           0.76       178\n",
            "   macro avg       0.76      0.74      0.74       178\n",
            "weighted avg       0.76      0.76      0.75       178\n",
            "\n"
          ]
        }
      ]
    },
    {
      "cell_type": "markdown",
      "source": [
        "**결과해석**  \n",
        "lr 모델에 비해 dt 모델은 0 클래스는 정밀도, 재현율, f1-scoer이 모두 향상.  \n",
        "1 클래스는 정밀도, f1-score가 개선. 결과의 전체 정확도도 향상됨.  \n",
        "두 모델의 차이점은 주로 1과 0클래스의 재현율과 1클래스의 정밀도에 있다.  \n",
        "dt 모델은 0 클래스를 식별하는 능력과 1 클래스의 정확한 에측에 더 탁월한 성능을 보여준다.  \n",
        "반면 lr 모델은 1 클래스의 재현율이 상대적으로 낮다.  \n",
        "전체적으로 dt 모델이 더 좋다.  "
      ],
      "metadata": {
        "id": "7YPkpsfEczY_"
      }
    },
    {
      "cell_type": "markdown",
      "source": [
        "## 5. 랜덤 포레스트(RandomForest) 모델\n"
      ],
      "metadata": {
        "id": "EF5kZ5njdKAR"
      }
    },
    {
      "cell_type": "markdown",
      "source": [
        "### RandomForest\n",
        "RandomForestClassifier는 앙상블 학습 기반의 회귀 모델로,\n",
        "여러 개의 Decision Tree를 사용하여 예측을 수행하는 모델이다.\n",
        "앙상블 학습은 여러 개의 모델을 조합하여 더 강력하고 안정적인 예측 모델을 만드는 기법이다.\n",
        "\n",
        "각 데이터셋에 대해 Decision Tree를 독립적으로 구축하고,\n",
        "이렇게 구축된 다수의 결정 트리를 조합하여 최종 예측 결과를 산출한다.\n",
        "이 모델은 다중 피처들의 상호작용을 고려하고,\n",
        "피처의 중요도를 제공하여 변수 선택이나 피처 엔지니어링에 유용하게 사용될 수 있다.\n",
        "또, 과적합에 강하고 예측 성닝이 뛰어나다는 장점이 있다.\n",
        "\n",
        "RandomForest 모델을 사용하기 위한 순서는 다음과 같다.\n",
        "1. RandomForestClassifier 모듈 import\n",
        "2. RandomForestClassifier 클래스의 인스턴스를 생성하여 model 변수에 할당.\n",
        "3. model 객체의 fit() 메서드를 호출하여 모델을 학습.\n",
        "\n",
        "위 과정을 통해 입력 변수와 대상 변수 간의 관계를 학습하여 새로운 입력에 대한 대상 값을 예측할 수 있다."
      ],
      "metadata": {
        "id": "9JO7DuwxdN7l"
      }
    },
    {
      "cell_type": "code",
      "source": [
        "from sklearn.ensemble import RandomForestClassifier\n",
        "from sklearn.ensemble import RandomForestClassifier\n",
        "\n",
        "model = RandomForestClassifier(n_estimators=200, max_depth=5, random_state=0)\n",
        "model.fit(train.drop(columns='Survived'),train['Survived'])\n",
        "\n",
        "y_pred = model.predict(val_x)\n",
        "print(confusion_matrix(val_y, y_pred))\n",
        "print(classification_report(val_y, y_pred))"
      ],
      "metadata": {
        "id": "6dnm3dRMdfht",
        "outputId": "23548da4-11da-4453-99fa-442ab1c8df3d",
        "colab": {
          "base_uri": "https://localhost:8080/"
        }
      },
      "execution_count": 17,
      "outputs": [
        {
          "output_type": "stream",
          "name": "stdout",
          "text": [
            "[[96  7]\n",
            " [33 42]]\n",
            "              precision    recall  f1-score   support\n",
            "\n",
            "           0       0.74      0.93      0.83       103\n",
            "           1       0.86      0.56      0.68        75\n",
            "\n",
            "    accuracy                           0.78       178\n",
            "   macro avg       0.80      0.75      0.75       178\n",
            "weighted avg       0.79      0.78      0.76       178\n",
            "\n"
          ]
        }
      ]
    },
    {
      "cell_type": "markdown",
      "source": [
        "**결과해석**  \n",
        "rf 모델의 결과는 dt 모델의 결과에 비해 모드 지표에서 더 좋은 성능을 보여준다.  \n",
        "0 클래스의 재현율이 0.93로 상승하여, 실제로 0인 샘플 중 93%가 정확하게 예측되었다.  \n",
        "1 클래스의 정밀도가 0.86으로 향상되었다.\n",
        "전체 정확도 역시 향상되었다.  \n",
        "따라서, rf 모델이 더 좋은 성능을 보여주며, dt 모델의 결과를 고도화한 것을 볼 수 있다.  \n",
        "모델의 성능이 향상되었음을 나타내며, 더 정확한 분류 결과를 보여준다.  \n",
        "특히, 0 클래스의 재현율이 상승하여 해당 클래스를 높은 정확도로 잘 예측하고 있음을 알 수 있다.  "
      ],
      "metadata": {
        "id": "XnEPZH2hdpQq"
      }
    },
    {
      "cell_type": "markdown",
      "source": [
        "## 6. XGBoost 모델"
      ],
      "metadata": {
        "id": "ut6qGv4vd3sm"
      }
    },
    {
      "cell_type": "markdown",
      "source": [
        "### XGBoost\n",
        "XGBoost는 Extreme Gradient Boosting의 약자이다.  \n",
        "이 XGBoost라는 모델을 알기 위해서는, 먼저 Boosting에 관해 이해해야 한다.  \n",
        "​Boosting은 순차적으로 모델의 정확도를 높이는 방법이다.  \n",
        "Boosting에서는 먼저 전체 학습 데이터에서 일부를 선택한 하위 데이터 세트와 이를 학습할 첫 번째 모델을 만든다.  \n",
        "그리고 첫 번째 모델이 잘 학습하지 못한 부분을 반영해서 두 번재 데이터 세트와 모델을 만들고, 이런 과정을 반복해서 점진적으로 모델의 정확도를 높인다.  \n",
        "​이러한 Boosting 기법을 이용하여 구현한 알고리즘은 Gradient Boost가 대표적이다.  \n",
        "이 Gradient Boost 알고리즘을 병렬 학습이 지원 되도록 구현한 것이 XGBoost이다.  \n",
        "​Regression, Classification 문제를 모두 지원하며, 성능과 자원 효율이 좋아서 자주 사용되는 알고리즘이다.  \n",
        "\n",
        "XGBClassifier의 하이퍼 파라미터\n",
        "\n",
        "- objective: 목적함수\n",
        "- n_estimators: 트리 수\n",
        "- tree_method: gpu 사용\n",
        "- eval_set: 성능 평가를 수행할 데이터 세트\n",
        "- eval_metric: 조기 종료를 위한 평가 지표\n",
        "- early_stopping_rounds: 조기 종료 조건, 평가 지표가 향상될 수 있는 반복 횟수\n",
        "- verbose: 학습 결과 출력 조건 등  \n",
        "\n",
        "Early Stopping(조기 중단):  \n",
        "GBM의 경우 n_estimators에 지정된 횟수만큼 학습을 끝까지 수행하지만,   \n",
        "XGB의 경우 오류가 더 이상 개선되지 않으면 수행을 중단한다.  \n",
        "만약 n_estimators을 200으로 설정하고, 조기 중단 파라미터값을 50으로 설정하면,  \n",
        "1부터 200회까지 부스팅을 하다가 50회를 반복하는 동안 학습 오류가 감소하지 않으면 더 이상 부스팅을 진행하지 않고 종료한다.  \n",
        "조기 중단 기능은 불필요한 학습 시간을 단축시켜 준다는 장점이 있다.  \n",
        "하지만 이 조기 중단 값을 급격하게 줄이게 되면 모델 성능이 향상될 여디가 있음에도 불구하고 학습이 조기 중단되는 경우 가 발생할 수 있다."
      ],
      "metadata": {
        "id": "t_FN--KVd9Dm"
      }
    },
    {
      "cell_type": "code",
      "source": [
        "from xgboost import XGBClassifier\n",
        "\n",
        "model = XGBClassifier(n_estimators=200, learning_rate=0.01, max_depth=5, random_state = 0)\n",
        "model.fit(train.drop(columns='Survived'),train['Survived'])\n",
        "y_pred = model.predict(val_x)\n",
        "\n",
        "print(confusion_matrix(val_y, y_pred))\n",
        "print(classification_report(val_y, y_pred))"
      ],
      "metadata": {
        "id": "IjaDxqSNe3RO",
        "outputId": "17193f0c-1f62-44af-9458-d5779b18c302",
        "colab": {
          "base_uri": "https://localhost:8080/"
        }
      },
      "execution_count": 18,
      "outputs": [
        {
          "output_type": "stream",
          "name": "stdout",
          "text": [
            "[[94  9]\n",
            " [26 49]]\n",
            "              precision    recall  f1-score   support\n",
            "\n",
            "           0       0.78      0.91      0.84       103\n",
            "           1       0.84      0.65      0.74        75\n",
            "\n",
            "    accuracy                           0.80       178\n",
            "   macro avg       0.81      0.78      0.79       178\n",
            "weighted avg       0.81      0.80      0.80       178\n",
            "\n"
          ]
        }
      ]
    },
    {
      "cell_type": "markdown",
      "source": [
        "**결과해석**  \n",
        "rf 모델에 비해서 xgb 모델이 좋은 성능을 보여준다.  \n",
        "0 클래스는 정밀도, 재현율, f1-score 모두 향상되었다.  \n",
        "1 클래스는 정밀도와 f1-score가 개선되었다.  \n",
        "전체 정확도도 향상되었다.  \n",
        "따라서 xgb 모델이 더 좋은 성능을 보여주며, rf 모델의 결과를 고도화한 것으로 볼 수 있다.  \n",
        "모델의 성능이 향상되었음을 나타내며, 더 정확한 분류 결과를 보여준다.  \n",
        "특히, 0 클래스의 재현율이 상승하여 해당 클래스를 높은 정확도로 잘 예측하고 있음을 알 수 있다.  \n",
        "1 클래스는 정밀도와, f1-score도 개선되었지만, 재현율은 낮아졌다."
      ],
      "metadata": {
        "id": "mry0FKgke_9p"
      }
    },
    {
      "cell_type": "markdown",
      "source": [
        "## 7. 모델 선택"
      ],
      "metadata": {
        "id": "jMBLHZJffJnr"
      }
    },
    {
      "cell_type": "code",
      "source": [
        "my_model = XGBClassifier(n_estimators=200, learning_rate=0.01, max_depth=5, random_state = 0)\n",
        "my_model.fit(train_dataset.drop(columns='Survived'),train_dataset['Survived'])\n",
        "XGB_pred = my_model.predict(test)"
      ],
      "metadata": {
        "id": "CgsQNEzOfMJ7"
      },
      "execution_count": 19,
      "outputs": []
    },
    {
      "cell_type": "markdown",
      "source": [
        "## 8. 제출 준비"
      ],
      "metadata": {
        "id": "Gah7IIaVfUMj"
      }
    },
    {
      "cell_type": "code",
      "source": [
        "y_pred = my_model.predict(test)\n",
        "submission['Survived'] = y_pred\n",
        "submission.head(10)"
      ],
      "metadata": {
        "id": "Q36b1UxZfRiO",
        "outputId": "ec4d9944-5150-4aac-cc8f-dc33e8bdc4e3",
        "colab": {
          "base_uri": "https://localhost:8080/",
          "height": 363
        }
      },
      "execution_count": 20,
      "outputs": [
        {
          "output_type": "execute_result",
          "data": {
            "text/plain": [
              "   PassengerId  Survived\n",
              "0          892         0\n",
              "1          893         0\n",
              "2          894         0\n",
              "3          895         0\n",
              "4          896         0\n",
              "5          897         0\n",
              "6          898         0\n",
              "7          899         0\n",
              "8          900         0\n",
              "9          901         0"
            ],
            "text/html": [
              "\n",
              "  <div id=\"df-5d40cb4c-0aac-4e49-9729-f6339bc24cb2\" class=\"colab-df-container\">\n",
              "    <div>\n",
              "<style scoped>\n",
              "    .dataframe tbody tr th:only-of-type {\n",
              "        vertical-align: middle;\n",
              "    }\n",
              "\n",
              "    .dataframe tbody tr th {\n",
              "        vertical-align: top;\n",
              "    }\n",
              "\n",
              "    .dataframe thead th {\n",
              "        text-align: right;\n",
              "    }\n",
              "</style>\n",
              "<table border=\"1\" class=\"dataframe\">\n",
              "  <thead>\n",
              "    <tr style=\"text-align: right;\">\n",
              "      <th></th>\n",
              "      <th>PassengerId</th>\n",
              "      <th>Survived</th>\n",
              "    </tr>\n",
              "  </thead>\n",
              "  <tbody>\n",
              "    <tr>\n",
              "      <th>0</th>\n",
              "      <td>892</td>\n",
              "      <td>0</td>\n",
              "    </tr>\n",
              "    <tr>\n",
              "      <th>1</th>\n",
              "      <td>893</td>\n",
              "      <td>0</td>\n",
              "    </tr>\n",
              "    <tr>\n",
              "      <th>2</th>\n",
              "      <td>894</td>\n",
              "      <td>0</td>\n",
              "    </tr>\n",
              "    <tr>\n",
              "      <th>3</th>\n",
              "      <td>895</td>\n",
              "      <td>0</td>\n",
              "    </tr>\n",
              "    <tr>\n",
              "      <th>4</th>\n",
              "      <td>896</td>\n",
              "      <td>0</td>\n",
              "    </tr>\n",
              "    <tr>\n",
              "      <th>5</th>\n",
              "      <td>897</td>\n",
              "      <td>0</td>\n",
              "    </tr>\n",
              "    <tr>\n",
              "      <th>6</th>\n",
              "      <td>898</td>\n",
              "      <td>0</td>\n",
              "    </tr>\n",
              "    <tr>\n",
              "      <th>7</th>\n",
              "      <td>899</td>\n",
              "      <td>0</td>\n",
              "    </tr>\n",
              "    <tr>\n",
              "      <th>8</th>\n",
              "      <td>900</td>\n",
              "      <td>0</td>\n",
              "    </tr>\n",
              "    <tr>\n",
              "      <th>9</th>\n",
              "      <td>901</td>\n",
              "      <td>0</td>\n",
              "    </tr>\n",
              "  </tbody>\n",
              "</table>\n",
              "</div>\n",
              "    <div class=\"colab-df-buttons\">\n",
              "\n",
              "  <div class=\"colab-df-container\">\n",
              "    <button class=\"colab-df-convert\" onclick=\"convertToInteractive('df-5d40cb4c-0aac-4e49-9729-f6339bc24cb2')\"\n",
              "            title=\"Convert this dataframe to an interactive table.\"\n",
              "            style=\"display:none;\">\n",
              "\n",
              "  <svg xmlns=\"http://www.w3.org/2000/svg\" height=\"24px\" viewBox=\"0 -960 960 960\">\n",
              "    <path d=\"M120-120v-720h720v720H120Zm60-500h600v-160H180v160Zm220 220h160v-160H400v160Zm0 220h160v-160H400v160ZM180-400h160v-160H180v160Zm440 0h160v-160H620v160ZM180-180h160v-160H180v160Zm440 0h160v-160H620v160Z\"/>\n",
              "  </svg>\n",
              "    </button>\n",
              "\n",
              "  <style>\n",
              "    .colab-df-container {\n",
              "      display:flex;\n",
              "      gap: 12px;\n",
              "    }\n",
              "\n",
              "    .colab-df-convert {\n",
              "      background-color: #E8F0FE;\n",
              "      border: none;\n",
              "      border-radius: 50%;\n",
              "      cursor: pointer;\n",
              "      display: none;\n",
              "      fill: #1967D2;\n",
              "      height: 32px;\n",
              "      padding: 0 0 0 0;\n",
              "      width: 32px;\n",
              "    }\n",
              "\n",
              "    .colab-df-convert:hover {\n",
              "      background-color: #E2EBFA;\n",
              "      box-shadow: 0px 1px 2px rgba(60, 64, 67, 0.3), 0px 1px 3px 1px rgba(60, 64, 67, 0.15);\n",
              "      fill: #174EA6;\n",
              "    }\n",
              "\n",
              "    .colab-df-buttons div {\n",
              "      margin-bottom: 4px;\n",
              "    }\n",
              "\n",
              "    [theme=dark] .colab-df-convert {\n",
              "      background-color: #3B4455;\n",
              "      fill: #D2E3FC;\n",
              "    }\n",
              "\n",
              "    [theme=dark] .colab-df-convert:hover {\n",
              "      background-color: #434B5C;\n",
              "      box-shadow: 0px 1px 3px 1px rgba(0, 0, 0, 0.15);\n",
              "      filter: drop-shadow(0px 1px 2px rgba(0, 0, 0, 0.3));\n",
              "      fill: #FFFFFF;\n",
              "    }\n",
              "  </style>\n",
              "\n",
              "    <script>\n",
              "      const buttonEl =\n",
              "        document.querySelector('#df-5d40cb4c-0aac-4e49-9729-f6339bc24cb2 button.colab-df-convert');\n",
              "      buttonEl.style.display =\n",
              "        google.colab.kernel.accessAllowed ? 'block' : 'none';\n",
              "\n",
              "      async function convertToInteractive(key) {\n",
              "        const element = document.querySelector('#df-5d40cb4c-0aac-4e49-9729-f6339bc24cb2');\n",
              "        const dataTable =\n",
              "          await google.colab.kernel.invokeFunction('convertToInteractive',\n",
              "                                                    [key], {});\n",
              "        if (!dataTable) return;\n",
              "\n",
              "        const docLinkHtml = 'Like what you see? Visit the ' +\n",
              "          '<a target=\"_blank\" href=https://colab.research.google.com/notebooks/data_table.ipynb>data table notebook</a>'\n",
              "          + ' to learn more about interactive tables.';\n",
              "        element.innerHTML = '';\n",
              "        dataTable['output_type'] = 'display_data';\n",
              "        await google.colab.output.renderOutput(dataTable, element);\n",
              "        const docLink = document.createElement('div');\n",
              "        docLink.innerHTML = docLinkHtml;\n",
              "        element.appendChild(docLink);\n",
              "      }\n",
              "    </script>\n",
              "  </div>\n",
              "\n",
              "\n",
              "<div id=\"df-0bfba44d-c528-4a32-aab4-74df8eeabe12\">\n",
              "  <button class=\"colab-df-quickchart\" onclick=\"quickchart('df-0bfba44d-c528-4a32-aab4-74df8eeabe12')\"\n",
              "            title=\"Suggest charts\"\n",
              "            style=\"display:none;\">\n",
              "\n",
              "<svg xmlns=\"http://www.w3.org/2000/svg\" height=\"24px\"viewBox=\"0 0 24 24\"\n",
              "     width=\"24px\">\n",
              "    <g>\n",
              "        <path d=\"M19 3H5c-1.1 0-2 .9-2 2v14c0 1.1.9 2 2 2h14c1.1 0 2-.9 2-2V5c0-1.1-.9-2-2-2zM9 17H7v-7h2v7zm4 0h-2V7h2v10zm4 0h-2v-4h2v4z\"/>\n",
              "    </g>\n",
              "</svg>\n",
              "  </button>\n",
              "\n",
              "<style>\n",
              "  .colab-df-quickchart {\n",
              "      --bg-color: #E8F0FE;\n",
              "      --fill-color: #1967D2;\n",
              "      --hover-bg-color: #E2EBFA;\n",
              "      --hover-fill-color: #174EA6;\n",
              "      --disabled-fill-color: #AAA;\n",
              "      --disabled-bg-color: #DDD;\n",
              "  }\n",
              "\n",
              "  [theme=dark] .colab-df-quickchart {\n",
              "      --bg-color: #3B4455;\n",
              "      --fill-color: #D2E3FC;\n",
              "      --hover-bg-color: #434B5C;\n",
              "      --hover-fill-color: #FFFFFF;\n",
              "      --disabled-bg-color: #3B4455;\n",
              "      --disabled-fill-color: #666;\n",
              "  }\n",
              "\n",
              "  .colab-df-quickchart {\n",
              "    background-color: var(--bg-color);\n",
              "    border: none;\n",
              "    border-radius: 50%;\n",
              "    cursor: pointer;\n",
              "    display: none;\n",
              "    fill: var(--fill-color);\n",
              "    height: 32px;\n",
              "    padding: 0;\n",
              "    width: 32px;\n",
              "  }\n",
              "\n",
              "  .colab-df-quickchart:hover {\n",
              "    background-color: var(--hover-bg-color);\n",
              "    box-shadow: 0 1px 2px rgba(60, 64, 67, 0.3), 0 1px 3px 1px rgba(60, 64, 67, 0.15);\n",
              "    fill: var(--button-hover-fill-color);\n",
              "  }\n",
              "\n",
              "  .colab-df-quickchart-complete:disabled,\n",
              "  .colab-df-quickchart-complete:disabled:hover {\n",
              "    background-color: var(--disabled-bg-color);\n",
              "    fill: var(--disabled-fill-color);\n",
              "    box-shadow: none;\n",
              "  }\n",
              "\n",
              "  .colab-df-spinner {\n",
              "    border: 2px solid var(--fill-color);\n",
              "    border-color: transparent;\n",
              "    border-bottom-color: var(--fill-color);\n",
              "    animation:\n",
              "      spin 1s steps(1) infinite;\n",
              "  }\n",
              "\n",
              "  @keyframes spin {\n",
              "    0% {\n",
              "      border-color: transparent;\n",
              "      border-bottom-color: var(--fill-color);\n",
              "      border-left-color: var(--fill-color);\n",
              "    }\n",
              "    20% {\n",
              "      border-color: transparent;\n",
              "      border-left-color: var(--fill-color);\n",
              "      border-top-color: var(--fill-color);\n",
              "    }\n",
              "    30% {\n",
              "      border-color: transparent;\n",
              "      border-left-color: var(--fill-color);\n",
              "      border-top-color: var(--fill-color);\n",
              "      border-right-color: var(--fill-color);\n",
              "    }\n",
              "    40% {\n",
              "      border-color: transparent;\n",
              "      border-right-color: var(--fill-color);\n",
              "      border-top-color: var(--fill-color);\n",
              "    }\n",
              "    60% {\n",
              "      border-color: transparent;\n",
              "      border-right-color: var(--fill-color);\n",
              "    }\n",
              "    80% {\n",
              "      border-color: transparent;\n",
              "      border-right-color: var(--fill-color);\n",
              "      border-bottom-color: var(--fill-color);\n",
              "    }\n",
              "    90% {\n",
              "      border-color: transparent;\n",
              "      border-bottom-color: var(--fill-color);\n",
              "    }\n",
              "  }\n",
              "</style>\n",
              "\n",
              "  <script>\n",
              "    async function quickchart(key) {\n",
              "      const quickchartButtonEl =\n",
              "        document.querySelector('#' + key + ' button');\n",
              "      quickchartButtonEl.disabled = true;  // To prevent multiple clicks.\n",
              "      quickchartButtonEl.classList.add('colab-df-spinner');\n",
              "      try {\n",
              "        const charts = await google.colab.kernel.invokeFunction(\n",
              "            'suggestCharts', [key], {});\n",
              "      } catch (error) {\n",
              "        console.error('Error during call to suggestCharts:', error);\n",
              "      }\n",
              "      quickchartButtonEl.classList.remove('colab-df-spinner');\n",
              "      quickchartButtonEl.classList.add('colab-df-quickchart-complete');\n",
              "    }\n",
              "    (() => {\n",
              "      let quickchartButtonEl =\n",
              "        document.querySelector('#df-0bfba44d-c528-4a32-aab4-74df8eeabe12 button');\n",
              "      quickchartButtonEl.style.display =\n",
              "        google.colab.kernel.accessAllowed ? 'block' : 'none';\n",
              "    })();\n",
              "  </script>\n",
              "</div>\n",
              "\n",
              "    </div>\n",
              "  </div>\n"
            ]
          },
          "metadata": {},
          "execution_count": 20
        }
      ]
    },
    {
      "cell_type": "markdown",
      "source": [
        "## 9. submission 파일 저장하기"
      ],
      "metadata": {
        "id": "N1nIU0oWfd5u"
      }
    },
    {
      "cell_type": "code",
      "source": [
        "submission.to_csv('submission.csv', index=False)"
      ],
      "metadata": {
        "id": "D6HdkLEBffth"
      },
      "execution_count": 21,
      "outputs": []
    },
    {
      "cell_type": "code",
      "source": [],
      "metadata": {
        "id": "E8v5_fmCfkDb"
      },
      "execution_count": null,
      "outputs": []
    }
  ]
}